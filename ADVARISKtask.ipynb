{
 "cells": [
  {
   "cell_type": "code",
   "execution_count": 1,
   "id": "c7131761",
   "metadata": {},
   "outputs": [],
   "source": [
    "import pandas as pd\n",
    "import re"
   ]
  },
  {
   "cell_type": "code",
   "execution_count": 2,
   "id": "e08c947b",
   "metadata": {},
   "outputs": [],
   "source": [
    "data = [['विजय कुमार राठी', 'विजय'], ['विजय कुमार राठी', 'कुमार विजय'], ['विजय कुमार राठी', 'वि के राठी '], ['विजय कुमार राठी', 'विनय राठी '], ['विजय कुमार राठी','श्री विजय राठी'],['विजय कुमार राठी', 'विजय राठी'], ['विजय कुमार राठी', 'विजय आर'], ['विजय कुमार राठी', 'विनय कुमार राठी'], ['विजय कुमार राठी', 'विजय कुमार राही ']]"
   ]
  },
  {
   "cell_type": "code",
   "execution_count": 3,
   "id": "55797402",
   "metadata": {},
   "outputs": [],
   "source": [
    "df = pd.DataFrame(data, columns = ['Owner name received through application', 'Owner name available in DB'])"
   ]
  },
  {
   "cell_type": "code",
   "execution_count": 4,
   "id": "8dd830d9",
   "metadata": {},
   "outputs": [
    {
     "data": {
      "text/html": [
       "<div>\n",
       "<style scoped>\n",
       "    .dataframe tbody tr th:only-of-type {\n",
       "        vertical-align: middle;\n",
       "    }\n",
       "\n",
       "    .dataframe tbody tr th {\n",
       "        vertical-align: top;\n",
       "    }\n",
       "\n",
       "    .dataframe thead th {\n",
       "        text-align: right;\n",
       "    }\n",
       "</style>\n",
       "<table border=\"1\" class=\"dataframe\">\n",
       "  <thead>\n",
       "    <tr style=\"text-align: right;\">\n",
       "      <th></th>\n",
       "      <th>Owner name received through application</th>\n",
       "      <th>Owner name available in DB</th>\n",
       "    </tr>\n",
       "  </thead>\n",
       "  <tbody>\n",
       "    <tr>\n",
       "      <th>0</th>\n",
       "      <td>विजय कुमार राठी</td>\n",
       "      <td>विजय</td>\n",
       "    </tr>\n",
       "    <tr>\n",
       "      <th>1</th>\n",
       "      <td>विजय कुमार राठी</td>\n",
       "      <td>कुमार विजय</td>\n",
       "    </tr>\n",
       "    <tr>\n",
       "      <th>2</th>\n",
       "      <td>विजय कुमार राठी</td>\n",
       "      <td>वि के राठी</td>\n",
       "    </tr>\n",
       "    <tr>\n",
       "      <th>3</th>\n",
       "      <td>विजय कुमार राठी</td>\n",
       "      <td>विनय राठी</td>\n",
       "    </tr>\n",
       "    <tr>\n",
       "      <th>4</th>\n",
       "      <td>विजय कुमार राठी</td>\n",
       "      <td>श्री विजय राठी</td>\n",
       "    </tr>\n",
       "    <tr>\n",
       "      <th>5</th>\n",
       "      <td>विजय कुमार राठी</td>\n",
       "      <td>विजय राठी</td>\n",
       "    </tr>\n",
       "    <tr>\n",
       "      <th>6</th>\n",
       "      <td>विजय कुमार राठी</td>\n",
       "      <td>विजय आर</td>\n",
       "    </tr>\n",
       "    <tr>\n",
       "      <th>7</th>\n",
       "      <td>विजय कुमार राठी</td>\n",
       "      <td>विनय कुमार राठी</td>\n",
       "    </tr>\n",
       "    <tr>\n",
       "      <th>8</th>\n",
       "      <td>विजय कुमार राठी</td>\n",
       "      <td>विजय कुमार राही</td>\n",
       "    </tr>\n",
       "  </tbody>\n",
       "</table>\n",
       "</div>"
      ],
      "text/plain": [
       "  Owner name received through application Owner name available in DB\n",
       "0                         विजय कुमार राठी                       विजय\n",
       "1                         विजय कुमार राठी                 कुमार विजय\n",
       "2                         विजय कुमार राठी                वि के राठी \n",
       "3                         विजय कुमार राठी                 विनय राठी \n",
       "4                         विजय कुमार राठी             श्री विजय राठी\n",
       "5                         विजय कुमार राठी                  विजय राठी\n",
       "6                         विजय कुमार राठी                    विजय आर\n",
       "7                         विजय कुमार राठी            विनय कुमार राठी\n",
       "8                         विजय कुमार राठी           विजय कुमार राही "
      ]
     },
     "execution_count": 4,
     "metadata": {},
     "output_type": "execute_result"
    }
   ],
   "source": [
    "df"
   ]
  },
  {
   "cell_type": "code",
   "execution_count": 54,
   "id": "3033a814",
   "metadata": {},
   "outputs": [],
   "source": [
    "conversiontable = {'ॐ' : 'oṁ', 'ऀ' : 'ṁ', 'ँ' : 'ṃ', 'ं' : 'ṃ', 'ः' : 'ḥ', 'अ' : 'a', 'आ' : 'ā', 'इ' : 'i', 'ई' : 'ī', 'उ' : 'u', 'ऊ' : 'ū', 'ऋ' : 'r̥', 'ॠ' : ' r̥̄', 'ऌ' : 'l̥', 'ॡ' : ' l̥̄', 'ऍ' : 'ê', 'ऎ' : 'e', 'ए' : 'e', 'ऐ' : 'ai', 'ऑ' : 'ô', 'ऒ' : 'o', 'ओ' : 'o', 'औ' : 'au', 'ा' : 'ā', 'ि' : 'i', 'ी' : 'ī', 'ु' : 'u', 'ू' : 'ū', 'ृ' : 'r̥', 'ॄ' : ' r̥̄', 'ॢ' : 'l̥', 'ॣ' : ' l̥̄', 'ॅ' : 'ê', 'े' : 'e', 'ै' : 'ai', 'ॉ' : 'ô', 'ो' : 'o', 'ौ' : 'au', 'क़' : 'q', 'क' : 'k', 'ख़' : 'x', 'ख' : 'kh', 'ग़' : 'ġ', 'ग' : 'g', 'ॻ' : 'g', 'घ' : 'gh', 'ङ' : 'ṅ', 'च' : 'c', 'छ' : 'ch', 'ज़' : 'z', 'ज' : 'j', 'ॼ' : 'j', 'झ' : 'jh', 'ञ' : 'ñ', 'ट' : 'ṭ', 'ठ' : 'ṭh', 'ड़' : 'ṛ', 'ड' : 'ḍ', 'ॸ' : 'ḍ', 'ॾ' : 'd', 'ढ़' : 'ṛh', 'ढ' : 'ḍh', 'ण' : 'ṇ', 'त' : 't', 'थ' : 'th', 'द' : 'd', 'ध' : 'dh', 'न' : 'n', 'प' : 'p', 'फ़' : 'f', 'फ' : 'ph', 'ब' : 'b', 'ॿ' : 'b', 'भ' : 'bh', 'म' : 'm', 'य' : 'y', 'र' : 'r', 'ल' : 'l', 'ळ' : 'ḷ', 'व' : 'v', 'श' : 'ś', 'ष' : 'ṣ', 'स' : 's', 'ह' : 'h', 'ऽ' : '\\'', '्' : '', '़' : '', '०' : '0', '१' : '1', '२' : '2', '३' : '3', '४' : '4', '५' : '5', '६' : '6', '७' : '7', '८' : '8', '९' : '9', 'ꣳ' : 'ṁ', '।' : '.', '॥' : '..', ' ' : ' ', }"
   ]
  },
  {
   "cell_type": "code",
   "execution_count": 55,
   "id": "dfd23bc1",
   "metadata": {},
   "outputs": [],
   "source": [
    "consonants = '\\u0915-\\u0939\\u0958-\\u095F\\u0978-\\u097C\\u097E-\\u097F'\n",
    "vowelsigns = '\\u093E-\\u094C\\u093A-\\u093B\\u094E-\\u094F\\u0955-\\u0957' \n",
    "nukta = '\\u093C' \n",
    "virama = '\\u094D' \n",
    "devanagarichars = '\\u0900-\\u097F\\u1CD0-\\u1CFF\\uA8E0-\\uA8FF'"
   ]
  },
  {
   "cell_type": "code",
   "execution_count": 70,
   "id": "780a89f6",
   "metadata": {},
   "outputs": [],
   "source": [
    "def hindi_to_English(text): \n",
    "    word = text.strip()  \n",
    "    curr = '' \n",
    "    for index, char in enumerate(word): \n",
    "        if re.match('[' + devanagarichars + ']', char):  \n",
    "            if re.match('[' + consonants + ']', char):  \n",
    "                nextchar = word[(index + 1) % len(word)] \n",
    "                if nextchar:  \n",
    "                    if re.match('[' + nukta + ']', nextchar): \n",
    "                        cons = char + nextchar \n",
    "                        nukta_present = 1 \n",
    "                    else: \n",
    "                        cons = char \n",
    "                        nukta_present = 0  \n",
    "                    if nukta_present: \n",
    "                        nextchar = word[(index + 2) % len(word)]  \n",
    "                    if re.match('[' + vowelsigns + virama +']', nextchar): \n",
    "                        trans = conversiontable.get(cons, '') \n",
    "                        curr = curr + trans \n",
    "                    else: \n",
    "                        trans = conversiontable.get(cons, '') \n",
    "                        trans = trans + \"a\" \n",
    "                        curr = curr + trans \n",
    "            else: \n",
    "                trans = conversiontable.get(char, '') \n",
    "                curr = curr + trans  \n",
    "        else: \n",
    "            curr = curr + char \n",
    "    return curr\n"
   ]
  },
  {
   "cell_type": "code",
   "execution_count": 71,
   "id": "ce34c923",
   "metadata": {},
   "outputs": [],
   "source": [
    "def getEnglish(inputtext):\n",
    "    word_syllables = []\n",
    "    all_words = []\n",
    "    for word in inputtext.split():\n",
    "        English_output = hindi_to_English(word)\n",
    "        all_words.append(English_output)\n",
    "        joined_all_words = ' '.join(all_words)\n",
    "    return joined_all_words"
   ]
  },
  {
   "cell_type": "code",
   "execution_count": 72,
   "id": "471fb09b",
   "metadata": {},
   "outputs": [
    {
     "data": {
      "text/plain": [
       "'vinoda'"
      ]
     },
     "execution_count": 72,
     "metadata": {},
     "output_type": "execute_result"
    }
   ],
   "source": [
    "getEnglish('विनोद')"
   ]
  },
  {
   "cell_type": "code",
   "execution_count": 73,
   "id": "7b0437a0",
   "metadata": {},
   "outputs": [
    {
     "data": {
      "text/plain": [
       "'manoja'"
      ]
     },
     "execution_count": 73,
     "metadata": {},
     "output_type": "execute_result"
    }
   ],
   "source": [
    "getEnglish('मनोज')"
   ]
  },
  {
   "cell_type": "code",
   "execution_count": 74,
   "id": "f73748e7",
   "metadata": {},
   "outputs": [
    {
     "data": {
      "text/plain": [
       "9"
      ]
     },
     "execution_count": 74,
     "metadata": {},
     "output_type": "execute_result"
    }
   ],
   "source": [
    "x = df['Owner name received through application']\n",
    "len(x)"
   ]
  },
  {
   "cell_type": "code",
   "execution_count": 75,
   "id": "8a8b6607",
   "metadata": {},
   "outputs": [
    {
     "data": {
      "text/html": [
       "<div>\n",
       "<style scoped>\n",
       "    .dataframe tbody tr th:only-of-type {\n",
       "        vertical-align: middle;\n",
       "    }\n",
       "\n",
       "    .dataframe tbody tr th {\n",
       "        vertical-align: top;\n",
       "    }\n",
       "\n",
       "    .dataframe thead th {\n",
       "        text-align: right;\n",
       "    }\n",
       "</style>\n",
       "<table border=\"1\" class=\"dataframe\">\n",
       "  <thead>\n",
       "    <tr style=\"text-align: right;\">\n",
       "      <th></th>\n",
       "      <th>Owner name received through application</th>\n",
       "      <th>Owner name available in DB</th>\n",
       "    </tr>\n",
       "  </thead>\n",
       "  <tbody>\n",
       "    <tr>\n",
       "      <th>0</th>\n",
       "      <td>vijaya kumara raṭhi</td>\n",
       "      <td>vijaya</td>\n",
       "    </tr>\n",
       "    <tr>\n",
       "      <th>1</th>\n",
       "      <td>vijaya kumara raṭhi</td>\n",
       "      <td>kumara vijaya</td>\n",
       "    </tr>\n",
       "    <tr>\n",
       "      <th>2</th>\n",
       "      <td>vijaya kumara raṭhi</td>\n",
       "      <td>vi ke raṭhi</td>\n",
       "    </tr>\n",
       "    <tr>\n",
       "      <th>3</th>\n",
       "      <td>vijaya kumara raṭhi</td>\n",
       "      <td>vinaya raṭhi</td>\n",
       "    </tr>\n",
       "    <tr>\n",
       "      <th>4</th>\n",
       "      <td>vijaya kumara raṭhi</td>\n",
       "      <td>śri vijaya raṭhi</td>\n",
       "    </tr>\n",
       "    <tr>\n",
       "      <th>5</th>\n",
       "      <td>vijaya kumara raṭhi</td>\n",
       "      <td>vijaya raṭhi</td>\n",
       "    </tr>\n",
       "    <tr>\n",
       "      <th>6</th>\n",
       "      <td>vijaya kumara raṭhi</td>\n",
       "      <td>vijaya ara</td>\n",
       "    </tr>\n",
       "    <tr>\n",
       "      <th>7</th>\n",
       "      <td>vijaya kumara raṭhi</td>\n",
       "      <td>vinaya kumara raṭhi</td>\n",
       "    </tr>\n",
       "    <tr>\n",
       "      <th>8</th>\n",
       "      <td>vijaya kumara raṭhi</td>\n",
       "      <td>vijaya kumara rahi</td>\n",
       "    </tr>\n",
       "  </tbody>\n",
       "</table>\n",
       "</div>"
      ],
      "text/plain": [
       "  Owner name received through application Owner name available in DB\n",
       "0                     vijaya kumara raṭhi                     vijaya\n",
       "1                     vijaya kumara raṭhi              kumara vijaya\n",
       "2                     vijaya kumara raṭhi                vi ke raṭhi\n",
       "3                     vijaya kumara raṭhi               vinaya raṭhi\n",
       "4                     vijaya kumara raṭhi           śri vijaya raṭhi\n",
       "5                     vijaya kumara raṭhi               vijaya raṭhi\n",
       "6                     vijaya kumara raṭhi                 vijaya ara\n",
       "7                     vijaya kumara raṭhi        vinaya kumara raṭhi\n",
       "8                     vijaya kumara raṭhi         vijaya kumara rahi"
      ]
     },
     "execution_count": 75,
     "metadata": {},
     "output_type": "execute_result"
    }
   ],
   "source": [
    "df['Owner name received through application'] = df['Owner name received through application'].apply(getEnglish)\n",
    "df['Owner name available in DB'] = df['Owner name available in DB'].apply(getEnglish)\n",
    "df"
   ]
  },
  {
   "cell_type": "code",
   "execution_count": 76,
   "id": "3376dc17",
   "metadata": {},
   "outputs": [],
   "source": [
    "input_text = df['Owner name available in DB']"
   ]
  },
  {
   "cell_type": "code",
   "execution_count": 77,
   "id": "027fab83",
   "metadata": {},
   "outputs": [
    {
     "data": {
      "text/plain": [
       "['Match',\n",
       " 'Match',\n",
       " 'Match',\n",
       " 'Not Match',\n",
       " 'Match',\n",
       " 'Match',\n",
       " 'Match',\n",
       " 'Not Match',\n",
       " 'Not Match']"
      ]
     },
     "execution_count": 77,
     "metadata": {},
     "output_type": "execute_result"
    }
   ],
   "source": [
    "def getMatch(input_text):\n",
    "    text = ['vijaya','kumara','raṭhi','vi','ke','ara','śri']\n",
    "    input_text = df['Owner name available in DB']\n",
    "    splitted_DB = [n.split(' ') for n in input_text ]\n",
    "    result = []\n",
    "    for i in range(0,len(input_text)):\n",
    "        for j in range(0,len(splitted_DB[i])):\n",
    "            if splitted_DB[i][j] in text:\n",
    "                if j == len(splitted_DB[i])-1:\n",
    "                    result += ['Match']\n",
    "            else:\n",
    "                result += ['Not Match']\n",
    "                break;\n",
    "    return result\n",
    "getMatch(input_text)"
   ]
  },
  {
   "cell_type": "code",
   "execution_count": 78,
   "id": "fbe86076",
   "metadata": {},
   "outputs": [
    {
     "data": {
      "text/html": [
       "<div>\n",
       "<style scoped>\n",
       "    .dataframe tbody tr th:only-of-type {\n",
       "        vertical-align: middle;\n",
       "    }\n",
       "\n",
       "    .dataframe tbody tr th {\n",
       "        vertical-align: top;\n",
       "    }\n",
       "\n",
       "    .dataframe thead th {\n",
       "        text-align: right;\n",
       "    }\n",
       "</style>\n",
       "<table border=\"1\" class=\"dataframe\">\n",
       "  <thead>\n",
       "    <tr style=\"text-align: right;\">\n",
       "      <th></th>\n",
       "      <th>Owner name received through application</th>\n",
       "      <th>Owner name available in DB</th>\n",
       "      <th>Result</th>\n",
       "    </tr>\n",
       "  </thead>\n",
       "  <tbody>\n",
       "    <tr>\n",
       "      <th>0</th>\n",
       "      <td>vijaya kumara raṭhi</td>\n",
       "      <td>vijaya</td>\n",
       "      <td>Match</td>\n",
       "    </tr>\n",
       "    <tr>\n",
       "      <th>1</th>\n",
       "      <td>vijaya kumara raṭhi</td>\n",
       "      <td>kumara vijaya</td>\n",
       "      <td>Match</td>\n",
       "    </tr>\n",
       "    <tr>\n",
       "      <th>2</th>\n",
       "      <td>vijaya kumara raṭhi</td>\n",
       "      <td>vi ke raṭhi</td>\n",
       "      <td>Match</td>\n",
       "    </tr>\n",
       "    <tr>\n",
       "      <th>3</th>\n",
       "      <td>vijaya kumara raṭhi</td>\n",
       "      <td>vinaya raṭhi</td>\n",
       "      <td>Not Match</td>\n",
       "    </tr>\n",
       "    <tr>\n",
       "      <th>4</th>\n",
       "      <td>vijaya kumara raṭhi</td>\n",
       "      <td>śri vijaya raṭhi</td>\n",
       "      <td>Match</td>\n",
       "    </tr>\n",
       "    <tr>\n",
       "      <th>5</th>\n",
       "      <td>vijaya kumara raṭhi</td>\n",
       "      <td>vijaya raṭhi</td>\n",
       "      <td>Match</td>\n",
       "    </tr>\n",
       "    <tr>\n",
       "      <th>6</th>\n",
       "      <td>vijaya kumara raṭhi</td>\n",
       "      <td>vijaya ara</td>\n",
       "      <td>Match</td>\n",
       "    </tr>\n",
       "    <tr>\n",
       "      <th>7</th>\n",
       "      <td>vijaya kumara raṭhi</td>\n",
       "      <td>vinaya kumara raṭhi</td>\n",
       "      <td>Not Match</td>\n",
       "    </tr>\n",
       "    <tr>\n",
       "      <th>8</th>\n",
       "      <td>vijaya kumara raṭhi</td>\n",
       "      <td>vijaya kumara rahi</td>\n",
       "      <td>Not Match</td>\n",
       "    </tr>\n",
       "  </tbody>\n",
       "</table>\n",
       "</div>"
      ],
      "text/plain": [
       "  Owner name received through application Owner name available in DB  \\\n",
       "0                     vijaya kumara raṭhi                     vijaya   \n",
       "1                     vijaya kumara raṭhi              kumara vijaya   \n",
       "2                     vijaya kumara raṭhi                vi ke raṭhi   \n",
       "3                     vijaya kumara raṭhi               vinaya raṭhi   \n",
       "4                     vijaya kumara raṭhi           śri vijaya raṭhi   \n",
       "5                     vijaya kumara raṭhi               vijaya raṭhi   \n",
       "6                     vijaya kumara raṭhi                 vijaya ara   \n",
       "7                     vijaya kumara raṭhi        vinaya kumara raṭhi   \n",
       "8                     vijaya kumara raṭhi         vijaya kumara rahi   \n",
       "\n",
       "      Result  \n",
       "0      Match  \n",
       "1      Match  \n",
       "2      Match  \n",
       "3  Not Match  \n",
       "4      Match  \n",
       "5      Match  \n",
       "6      Match  \n",
       "7  Not Match  \n",
       "8  Not Match  "
      ]
     },
     "execution_count": 78,
     "metadata": {},
     "output_type": "execute_result"
    }
   ],
   "source": [
    "df1 = df.copy()\n",
    "df1['Result'] = getMatch(df['Owner name available in DB'])\n",
    "df1"
   ]
  },
  {
   "cell_type": "code",
   "execution_count": 79,
   "id": "0d74a73f",
   "metadata": {},
   "outputs": [
    {
     "data": {
      "text/plain": [
       "'śaṃkara'"
      ]
     },
     "execution_count": 79,
     "metadata": {},
     "output_type": "execute_result"
    }
   ],
   "source": [
    "getEnglish('शंकर')"
   ]
  },
  {
   "cell_type": "code",
   "execution_count": 80,
   "id": "16a1c945",
   "metadata": {},
   "outputs": [
    {
     "data": {
      "text/plain": [
       "'aṃbara'"
      ]
     },
     "execution_count": 80,
     "metadata": {},
     "output_type": "execute_result"
    }
   ],
   "source": [
    "getEnglish('अंबर')"
   ]
  },
  {
   "cell_type": "code",
   "execution_count": 81,
   "id": "f7668a90",
   "metadata": {},
   "outputs": [
    {
     "data": {
      "text/plain": [
       "'pradyuma'"
      ]
     },
     "execution_count": 81,
     "metadata": {},
     "output_type": "execute_result"
    }
   ],
   "source": [
    "getEnglish(' प्रद्युम')"
   ]
  },
  {
   "cell_type": "code",
   "execution_count": 82,
   "id": "d5c1c5da",
   "metadata": {},
   "outputs": [
    {
     "data": {
      "text/plain": [
       "'aiśvaryā'"
      ]
     },
     "execution_count": 82,
     "metadata": {},
     "output_type": "execute_result"
    }
   ],
   "source": [
    "getEnglish('ऐश्वर्या')"
   ]
  },
  {
   "cell_type": "code",
   "execution_count": 83,
   "id": "e04180ca",
   "metadata": {},
   "outputs": [
    {
     "data": {
      "text/plain": [
       "'venateya'"
      ]
     },
     "execution_count": 83,
     "metadata": {},
     "output_type": "execute_result"
    }
   ],
   "source": [
    "getEnglish('वेनतेय')"
   ]
  },
  {
   "cell_type": "code",
   "execution_count": null,
   "id": "2b5e5e65",
   "metadata": {},
   "outputs": [],
   "source": []
  }
 ],
 "metadata": {
  "kernelspec": {
   "display_name": "Python 3 (ipykernel)",
   "language": "python",
   "name": "python3"
  },
  "language_info": {
   "codemirror_mode": {
    "name": "ipython",
    "version": 3
   },
   "file_extension": ".py",
   "mimetype": "text/x-python",
   "name": "python",
   "nbconvert_exporter": "python",
   "pygments_lexer": "ipython3",
   "version": "3.9.1"
  }
 },
 "nbformat": 4,
 "nbformat_minor": 5
}
